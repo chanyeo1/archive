{
  "nbformat": 4,
  "nbformat_minor": 0,
  "metadata": {
    "colab": {
      "provenance": []
    },
    "kernelspec": {
      "name": "python3",
      "display_name": "Python 3"
    },
    "language_info": {
      "name": "python"
    }
  },
  "cells": [
    {
      "cell_type": "markdown",
      "source": [
        "# Build an Agent\n",
        "\n",
        "- https://python.langchain.com/v0.2/docs/tutorials/agents/"
      ],
      "metadata": {
        "id": "djN3nHqskm7D"
      }
    },
    {
      "cell_type": "markdown",
      "source": [
        "# End-to-end agent"
      ],
      "metadata": {
        "id": "4yH98hO3aw0M"
      }
    },
    {
      "cell_type": "code",
      "execution_count": null,
      "metadata": {
        "id": "uZFXWPh3alDl"
      },
      "outputs": [],
      "source": [
        "# Import relevant functionality\n",
        "from langchain_anthropic import ChatAnthropic\n",
        "from langchain_community.tools.tavily_search import TavilySearch\n",
        "from langchain_core.messages import HumanMessage\n",
        "from langgraph.checkpoint.sqlite import SqliteSaver\n",
        "from langgraph.prebuilt import create_react_agent\n",
        "\n",
        "# Create the agent\n",
        "memory = SqliteSaver.from_conn_string(\":memory:\")\n",
        "model = ChatAnthropic(model_name=\"claude-3-sonnet-20240229\")\n",
        "search = TavilySearchResults(max_results=2)\n",
        "tools = [search]\n",
        "agent_executor = create_react_agent(model, tools, checkpointer=memory)\n",
        "\n",
        "# Use the agent\n",
        "config = {\"configurable\": {\"thread_id\": \"abc123\"}}\n",
        "for chunk in agent_executor.stream(\n",
        "    {\"messages\": [HumanMessage(content=\"hi im bob! and i live in sf\")]}, config\n",
        "):\n",
        "  print(chunk)\n",
        "  print(\"----\")\n",
        "\n",
        "for chunk in agent_executor.stream(\n",
        "    {\"messages\": [HumanMessage(content=\"whats the weather where I live?\")]}, config\n",
        "):\n",
        "  print(chunk)\n",
        "  print(\"----\")"
      ]
    },
    {
      "cell_type": "markdown",
      "source": [
        "# Setup"
      ],
      "metadata": {
        "id": "0p-lFAF7cOPS"
      }
    },
    {
      "cell_type": "code",
      "source": [
        "%pip install -U langchain-community langgraph langchain-anthropic tavily-python"
      ],
      "metadata": {
        "id": "lA4FrI-1cPaC"
      },
      "execution_count": null,
      "outputs": []
    },
    {
      "cell_type": "code",
      "source": [
        "import getpass\n",
        "import os\n",
        "\n",
        "os.environ[\"LANGCHAIN_API_KEY\"] = getpass.getpass()\n",
        "os.environ[\"LANGCHAIN_TRACING_V2\"] = \"true\"\n",
        "os.environ[\"LANGCHAIN_ENDPOINT\"] = \"https://api.smith.langchain.com\"\n",
        "os.environ[\"LANGCHAIN_PROJECT\"] = \"Build_an_Agent\""
      ],
      "metadata": {
        "colab": {
          "base_uri": "https://localhost:8080/"
        },
        "id": "wApHhUJmcRFz",
        "outputId": "2c95b844-c8bd-4598-fbae-a6ba97860699"
      },
      "execution_count": 2,
      "outputs": [
        {
          "name": "stdout",
          "output_type": "stream",
          "text": [
            "··········\n"
          ]
        }
      ]
    },
    {
      "cell_type": "markdown",
      "source": [
        "# Tavily"
      ],
      "metadata": {
        "id": "26-rrQAncufD"
      }
    },
    {
      "cell_type": "code",
      "source": [
        "import getpass\n",
        "import os\n",
        "\n",
        "os.environ[\"TAVILY_API_KEY\"] = getpass.getpass()"
      ],
      "metadata": {
        "colab": {
          "base_uri": "https://localhost:8080/"
        },
        "id": "ahQTbJppcvha",
        "outputId": "72d60304-1018-4d36-f0d2-081ed9c80649"
      },
      "execution_count": 3,
      "outputs": [
        {
          "name": "stdout",
          "output_type": "stream",
          "text": [
            "··········\n"
          ]
        }
      ]
    },
    {
      "cell_type": "markdown",
      "source": [
        "# Define tools"
      ],
      "metadata": {
        "id": "f27zDeF-c287"
      }
    },
    {
      "cell_type": "code",
      "source": [
        "from langchain_community.tools.tavily_search import TavilySearchResults\n",
        "\n",
        "search = TavilySearchResults(max_results=2)\n",
        "search_results = search.invoke(\"what is the weather in SF\")\n",
        "print(search_results)\n",
        "\n",
        "# If we want, we can create other tools.\n",
        "# Once we have all the tools we want, we can put them in a list that we will reference later\n",
        "tools = [search]"
      ],
      "metadata": {
        "colab": {
          "base_uri": "https://localhost:8080/"
        },
        "id": "4gPqRBF1cxsq",
        "outputId": "9479ab62-26db-41af-bf3e-6e92b636c48a"
      },
      "execution_count": 4,
      "outputs": [
        {
          "output_type": "stream",
          "name": "stdout",
          "text": [
            "[{'url': 'https://www.weatherapi.com/', 'content': \"{'location': {'name': 'San Francisco', 'region': 'California', 'country': 'United States of America', 'lat': 37.78, 'lon': -122.42, 'tz_id': 'America/Los_Angeles', 'localtime_epoch': 1722926880, 'localtime': '2024-08-05 23:48'}, 'current': {'last_updated_epoch': 1722926700, 'last_updated': '2024-08-05 23:45', 'temp_c': 13.3, 'temp_f': 55.9, 'is_day': 0, 'condition': {'text': 'Partly Cloudy', 'icon': '//cdn.weatherapi.com/weather/64x64/night/116.png', 'code': 1003}, 'wind_mph': 7.6, 'wind_kph': 12.2, 'wind_degree': 245, 'wind_dir': 'WSW', 'pressure_mb': 1015.0, 'pressure_in': 29.96, 'precip_mm': 0.0, 'precip_in': 0.0, 'humidity': 91, 'cloud': 41, 'feelslike_c': 12.4, 'feelslike_f': 54.3, 'windchill_c': 12.4, 'windchill_f': 54.3, 'heatindex_c': 13.3, 'heatindex_f': 55.9, 'dewpoint_c': 11.7, 'dewpoint_f': 53.1, 'vis_km': 10.0, 'vis_miles': 6.0, 'uv': 1.0, 'gust_mph': 11.7, 'gust_kph': 18.9}}\"}, {'url': 'https://www.wunderground.com/hourly/us/ca/san-francisco/date/2024-08-01', 'content': 'Current Weather for Popular Cities . San Francisco, CA 56 ° F Cloudy; Manhattan, NY warning 81 ° F Sunny; Schiller Park, IL (60176) 77 ° F Cloudy; Boston, MA warning 81 ° F Sunny; Houston, TX ...'}]\n"
          ]
        }
      ]
    },
    {
      "cell_type": "markdown",
      "source": [
        "# Using Language Models"
      ],
      "metadata": {
        "id": "T9iw8cmYdbWq"
      }
    },
    {
      "cell_type": "code",
      "source": [
        "pip install -qU langchain-openai"
      ],
      "metadata": {
        "colab": {
          "base_uri": "https://localhost:8080/"
        },
        "id": "XLcYz4zhddQ7",
        "outputId": "2ee47731-40c0-4c56-b810-a8d3287f335e"
      },
      "execution_count": 5,
      "outputs": [
        {
          "output_type": "stream",
          "name": "stdout",
          "text": [
            "\u001b[?25l   \u001b[90m━━━━━━━━━━━━━━━━━━━━━━━━━━━━━━━━━━━━━━━━\u001b[0m \u001b[32m0.0/48.2 kB\u001b[0m \u001b[31m?\u001b[0m eta \u001b[36m-:--:--\u001b[0m\r\u001b[2K   \u001b[90m━━━━━━━━━━━━━━━━━━━━━━━━━━━━━━━━━━━━━━━━\u001b[0m \u001b[32m48.2/48.2 kB\u001b[0m \u001b[31m2.5 MB/s\u001b[0m eta \u001b[36m0:00:00\u001b[0m\n",
            "\u001b[?25h\u001b[?25l   \u001b[90m━━━━━━━━━━━━━━━━━━━━━━━━━━━━━━━━━━━━━━━━\u001b[0m \u001b[32m0.0/336.7 kB\u001b[0m \u001b[31m?\u001b[0m eta \u001b[36m-:--:--\u001b[0m\r\u001b[2K   \u001b[90m━━━━━━━━━━━━━━━━━━━━━━━━━━━━━━━━━━━━━━━━\u001b[0m \u001b[32m336.7/336.7 kB\u001b[0m \u001b[31m15.1 MB/s\u001b[0m eta \u001b[36m0:00:00\u001b[0m\n",
            "\u001b[?25h"
          ]
        }
      ]
    },
    {
      "cell_type": "code",
      "source": [
        "import getpass\n",
        "import os\n",
        "\n",
        "os.environ[\"OPENAI_API_KEY\"] = getpass.getpass()\n",
        "\n",
        "from langchain_openai import ChatOpenAI\n",
        "\n",
        "model = ChatOpenAI(model=\"gpt-4\")"
      ],
      "metadata": {
        "colab": {
          "base_uri": "https://localhost:8080/"
        },
        "id": "5Nv1fCdWdekS",
        "outputId": "6b67cb23-b1fa-45a0-9271-17f088d38dba"
      },
      "execution_count": 6,
      "outputs": [
        {
          "name": "stdout",
          "output_type": "stream",
          "text": [
            "··········\n"
          ]
        }
      ]
    },
    {
      "cell_type": "code",
      "source": [
        "from langchain_core.messages import HumanMessage\n",
        "\n",
        "response = model.invoke([HumanMessage(content=\"hi!\")])\n",
        "response.content"
      ],
      "metadata": {
        "colab": {
          "base_uri": "https://localhost:8080/",
          "height": 35
        },
        "id": "gGlblPV_dmAS",
        "outputId": "75e332e8-84ff-44fc-bd95-36d95b7767d6"
      },
      "execution_count": 7,
      "outputs": [
        {
          "output_type": "execute_result",
          "data": {
            "text/plain": [
              "'Hello! How can I assist you today?'"
            ],
            "application/vnd.google.colaboratory.intrinsic+json": {
              "type": "string"
            }
          },
          "metadata": {},
          "execution_count": 7
        }
      ]
    },
    {
      "cell_type": "code",
      "source": [
        "# 모델이 도구를 호출하도록 설정\n",
        "model_with_tools = model.bind_tools(tools)"
      ],
      "metadata": {
        "id": "z0SHISwadsDb"
      },
      "execution_count": 8,
      "outputs": []
    },
    {
      "cell_type": "code",
      "source": [
        "response = model_with_tools.invoke([HumanMessage(content=\"Hi!\")])\n",
        "\n",
        "print(f\"ContentString: {response.content}\")\n",
        "print(f\"ToolCalls: {response.tool_calls}\")"
      ],
      "metadata": {
        "colab": {
          "base_uri": "https://localhost:8080/"
        },
        "id": "v7xbq_59d5-R",
        "outputId": "57f09739-63cb-4603-894c-445e514ef88a"
      },
      "execution_count": 9,
      "outputs": [
        {
          "output_type": "stream",
          "name": "stdout",
          "text": [
            "ContentString: Hello! How can I assist you today?\n",
            "ToolCalls: []\n"
          ]
        }
      ]
    },
    {
      "cell_type": "code",
      "source": [
        "response = model_with_tools.invoke([HumanMessage(content=\"What's the weather in SF?\")])\n",
        "\n",
        "print(f\"ContentString: {response.content}\")\n",
        "print(f\"ToolCalls: {response.tool_calls}\")"
      ],
      "metadata": {
        "colab": {
          "base_uri": "https://localhost:8080/"
        },
        "id": "szv2ARCeeLYx",
        "outputId": "d74268f3-216e-409c-f39c-b09312f652ee"
      },
      "execution_count": 10,
      "outputs": [
        {
          "output_type": "stream",
          "name": "stdout",
          "text": [
            "ContentString: \n",
            "ToolCalls: [{'name': 'tavily_search_results_json', 'args': {'query': 'current weather in San Francisco'}, 'id': 'call_p1UVB0z8eheDizXkiMQyLvf1', 'type': 'tool_call'}]\n"
          ]
        }
      ]
    },
    {
      "cell_type": "markdown",
      "source": [
        "# Create the agent"
      ],
      "metadata": {
        "id": "nSaYwjokefEx"
      }
    },
    {
      "cell_type": "code",
      "source": [
        "from langgraph.prebuilt import create_react_agent\n",
        "\n",
        "agent_executor = create_react_agent(model, tools)"
      ],
      "metadata": {
        "id": "KHS2LIdRegkB"
      },
      "execution_count": 11,
      "outputs": []
    },
    {
      "cell_type": "markdown",
      "source": [
        "# Run the agent"
      ],
      "metadata": {
        "id": "EQjDvo8ofBss"
      }
    },
    {
      "cell_type": "code",
      "source": [
        "# 도구(검색 엔진)를 호출하지 않는 경우\n",
        "response = agent_executor.invoke({\"messages\": [HumanMessage(content=\"hi!\")]})\n",
        "response[\"messages\"]"
      ],
      "metadata": {
        "colab": {
          "base_uri": "https://localhost:8080/"
        },
        "id": "QYW84BC-e6hx",
        "outputId": "12acdc96-0934-4512-c687-c13821638285"
      },
      "execution_count": 13,
      "outputs": [
        {
          "output_type": "execute_result",
          "data": {
            "text/plain": [
              "[HumanMessage(content='hi!', id='dbee621e-d1ec-4239-a1c3-af6c17892efe'),\n",
              " AIMessage(content='Hello! How can I assist you today?', response_metadata={'token_usage': {'completion_tokens': 10, 'prompt_tokens': 83, 'total_tokens': 93}, 'model_name': 'gpt-4-0613', 'system_fingerprint': None, 'finish_reason': 'stop', 'logprobs': None}, id='run-1e1c73e6-7a54-4f9d-a39d-39400b49e22b-0', usage_metadata={'input_tokens': 83, 'output_tokens': 10, 'total_tokens': 93})]"
            ]
          },
          "metadata": {},
          "execution_count": 13
        }
      ]
    },
    {
      "cell_type": "code",
      "source": [
        "# 도구(검색 엔진)을 호출하는 경우\n",
        "response = agent_executor.invoke(\n",
        "    {\"messages\": [HumanMessage(content=\"whats the weather in sf?\")]}\n",
        ")\n",
        "response[\"messages\"]"
      ],
      "metadata": {
        "colab": {
          "base_uri": "https://localhost:8080/"
        },
        "id": "8h2rUm-Cf2_Q",
        "outputId": "d17a7871-9d42-4b3c-b952-1711d2982afa"
      },
      "execution_count": 14,
      "outputs": [
        {
          "output_type": "execute_result",
          "data": {
            "text/plain": [
              "[HumanMessage(content='whats the weather in sf?', id='9f1499b3-959e-43b1-868a-fe1742fa76b5'),\n",
              " AIMessage(content='', additional_kwargs={'tool_calls': [{'id': 'call_etvWFkJzGZ4YZYd6jKnTHWGw', 'function': {'arguments': '{\\n  \"query\": \"current weather in San Francisco\"\\n}', 'name': 'tavily_search_results_json'}, 'type': 'function'}]}, response_metadata={'token_usage': {'completion_tokens': 23, 'prompt_tokens': 88, 'total_tokens': 111}, 'model_name': 'gpt-4-0613', 'system_fingerprint': None, 'finish_reason': 'tool_calls', 'logprobs': None}, id='run-6957ecfc-a42f-49e9-973e-2b4d6b9f95d3-0', tool_calls=[{'name': 'tavily_search_results_json', 'args': {'query': 'current weather in San Francisco'}, 'id': 'call_etvWFkJzGZ4YZYd6jKnTHWGw', 'type': 'tool_call'}], usage_metadata={'input_tokens': 88, 'output_tokens': 23, 'total_tokens': 111}),\n",
              " ToolMessage(content='[{\"url\": \"https://www.weatherapi.com/\", \"content\": \"{\\'location\\': {\\'name\\': \\'San Francisco\\', \\'region\\': \\'California\\', \\'country\\': \\'United States of America\\', \\'lat\\': 37.78, \\'lon\\': -122.42, \\'tz_id\\': \\'America/Los_Angeles\\', \\'localtime_epoch\\': 1722927688, \\'localtime\\': \\'2024-08-06 00:01\\'}, \\'current\\': {\\'last_updated_epoch\\': 1722926700, \\'last_updated\\': \\'2024-08-05 23:45\\', \\'temp_c\\': 13.3, \\'temp_f\\': 55.9, \\'is_day\\': 0, \\'condition\\': {\\'text\\': \\'Partly Cloudy\\', \\'icon\\': \\'//cdn.weatherapi.com/weather/64x64/night/116.png\\', \\'code\\': 1003}, \\'wind_mph\\': 7.6, \\'wind_kph\\': 12.2, \\'wind_degree\\': 245, \\'wind_dir\\': \\'WSW\\', \\'pressure_mb\\': 1015.0, \\'pressure_in\\': 29.96, \\'precip_mm\\': 0.0, \\'precip_in\\': 0.0, \\'humidity\\': 91, \\'cloud\\': 41, \\'feelslike_c\\': 12.4, \\'feelslike_f\\': 54.3, \\'windchill_c\\': 12.4, \\'windchill_f\\': 54.3, \\'heatindex_c\\': 13.3, \\'heatindex_f\\': 55.9, \\'dewpoint_c\\': 11.7, \\'dewpoint_f\\': 53.1, \\'vis_km\\': 10.0, \\'vis_miles\\': 6.0, \\'uv\\': 1.0, \\'gust_mph\\': 11.7, \\'gust_kph\\': 18.9}}\"}, {\"url\": \"https://www.wunderground.com/hourly/us/ca/san-francisco/date/2024-08-01\", \"content\": \"Current Weather for Popular Cities . San Francisco, CA 56 \\\\u00b0 F Cloudy; Manhattan, NY warning 81 \\\\u00b0 F Sunny; Schiller Park, IL (60176) 77 \\\\u00b0 F Cloudy; Boston, MA warning 81 \\\\u00b0 F Sunny; Houston, TX ...\"}]', name='tavily_search_results_json', id='7d3dde6a-8f2e-4f6a-a44e-b11cf05eb780', tool_call_id='call_etvWFkJzGZ4YZYd6jKnTHWGw', artifact={'query': 'current weather in San Francisco', 'follow_up_questions': None, 'answer': None, 'images': [], 'results': [{'title': 'Weather in San Francisco', 'url': 'https://www.weatherapi.com/', 'content': \"{'location': {'name': 'San Francisco', 'region': 'California', 'country': 'United States of America', 'lat': 37.78, 'lon': -122.42, 'tz_id': 'America/Los_Angeles', 'localtime_epoch': 1722927688, 'localtime': '2024-08-06 00:01'}, 'current': {'last_updated_epoch': 1722926700, 'last_updated': '2024-08-05 23:45', 'temp_c': 13.3, 'temp_f': 55.9, 'is_day': 0, 'condition': {'text': 'Partly Cloudy', 'icon': '//cdn.weatherapi.com/weather/64x64/night/116.png', 'code': 1003}, 'wind_mph': 7.6, 'wind_kph': 12.2, 'wind_degree': 245, 'wind_dir': 'WSW', 'pressure_mb': 1015.0, 'pressure_in': 29.96, 'precip_mm': 0.0, 'precip_in': 0.0, 'humidity': 91, 'cloud': 41, 'feelslike_c': 12.4, 'feelslike_f': 54.3, 'windchill_c': 12.4, 'windchill_f': 54.3, 'heatindex_c': 13.3, 'heatindex_f': 55.9, 'dewpoint_c': 11.7, 'dewpoint_f': 53.1, 'vis_km': 10.0, 'vis_miles': 6.0, 'uv': 1.0, 'gust_mph': 11.7, 'gust_kph': 18.9}}\", 'score': 0.9867545, 'raw_content': None}, {'title': 'San Francisco, CA Hourly Weather Forecast | Weather Underground', 'url': 'https://www.wunderground.com/hourly/us/ca/san-francisco/date/2024-08-01', 'content': 'Current Weather for Popular Cities . San Francisco, CA 56 ° F Cloudy; Manhattan, NY warning 81 ° F Sunny; Schiller Park, IL (60176) 77 ° F Cloudy; Boston, MA warning 81 ° F Sunny; Houston, TX ...', 'score': 0.98463464, 'raw_content': None}], 'response_time': 1.92}),\n",
              " AIMessage(content='The current weather in San Francisco, California is partly cloudy with a temperature of 13.3°C (55.9°F). The wind is blowing from the WSW at a speed of 7.6 mph. The humidity is at 91%.', response_metadata={'token_usage': {'completion_tokens': 52, 'prompt_tokens': 640, 'total_tokens': 692}, 'model_name': 'gpt-4-0613', 'system_fingerprint': None, 'finish_reason': 'stop', 'logprobs': None}, id='run-a63d51d7-d384-4c84-a648-7dac3756ecf3-0', usage_metadata={'input_tokens': 640, 'output_tokens': 52, 'total_tokens': 692})]"
            ]
          },
          "metadata": {},
          "execution_count": 14
        }
      ]
    },
    {
      "cell_type": "markdown",
      "source": [
        "# Streaming Messages"
      ],
      "metadata": {
        "id": "CEelRLQVgJz5"
      }
    },
    {
      "cell_type": "code",
      "source": [
        "for chunk in agent_executor.stream(\n",
        "    {\"messages\": [HumanMessage(content=\"whats the weather in sf?\")]}\n",
        "):\n",
        "  print(chunk)\n",
        "  print(\"----\")"
      ],
      "metadata": {
        "colab": {
          "base_uri": "https://localhost:8080/"
        },
        "id": "6KzEosA-gCR6",
        "outputId": "21780aee-3d08-4a96-f8e0-1cb9abe30d4a"
      },
      "execution_count": 15,
      "outputs": [
        {
          "output_type": "stream",
          "name": "stdout",
          "text": [
            "{'agent': {'messages': [AIMessage(content=\"Sorry, as a text-based AI model I don't have real-time capabilities to provide current weather updates. I recommend checking a reliable weather forecasting website or app for the most accurate and up-to-date information.\", response_metadata={'token_usage': {'completion_tokens': 42, 'prompt_tokens': 88, 'total_tokens': 130}, 'model_name': 'gpt-4-0613', 'system_fingerprint': None, 'finish_reason': 'stop', 'logprobs': None}, id='run-789bb333-3407-421a-970d-c16a8107a6d7-0', usage_metadata={'input_tokens': 88, 'output_tokens': 42, 'total_tokens': 130})]}}\n",
            "----\n"
          ]
        }
      ]
    },
    {
      "cell_type": "code",
      "source": [
        "async for event in agent_executor.astream_events(\n",
        "    {\"messages\": [HumanMessage(content=\"whats the weather in sf?\")]}, version=\"v1\"\n",
        "):\n",
        "  kind = event[\"event\"]\n",
        "\n",
        "  if kind == \"on_chain_start\":\n",
        "    if (event[\"name\"] == \"Agent\"):\n",
        "      print(f\"Starting agent: {event['name']} with input: {event['data'].get('input')}\")\n",
        "  elif kind == \"on_chain_end\":\n",
        "    if (event[\"name\"] == \"Agent\"):\n",
        "      print()\n",
        "      print(\"--\")\n",
        "      print(f\"Done agent: {event['name']} with output: {event['data'].get('output')['output']}\")\n",
        "\n",
        "  if kind == \"on_chat_model_stream\":\n",
        "    content = event[\"data\"][\"chunk\"].content  # 스트림 출력\n",
        "    if content:\n",
        "      # Empty content in the context of OpenAI means\n",
        "      # that the model is asking for a tool to be invoked\n",
        "      # So we only print non-empty content\n",
        "      print(content, end=\"|\")\n",
        "  elif kind == \"on_tool_start\":   # 에이전트 도구 호출 시작\n",
        "    print(\"--\")\n",
        "    print(f\"Starting tool: {event['name']} with inputs: {event['data'].get('input')}\")\n",
        "  elif kind == \"on_tool_end\":     # 에이전트 도구 호출 종료\n",
        "    print(f\"Done tool: {event['name']}\")\n",
        "    print(f\"Tool output was: {event['data'].get('output')}\")\n",
        "    print(\"--\")"
      ],
      "metadata": {
        "colab": {
          "base_uri": "https://localhost:8080/"
        },
        "id": "zAlHHj3iggpI",
        "outputId": "a14e3781-d4d0-4751-f7be-e6570e5fa2d4"
      },
      "execution_count": 17,
      "outputs": [
        {
          "output_type": "stream",
          "name": "stderr",
          "text": [
            "/usr/local/lib/python3.10/dist-packages/langchain_core/_api/beta_decorator.py:87: LangChainBetaWarning: This API is in beta and may change in the future.\n",
            "  warn_beta(\n"
          ]
        },
        {
          "output_type": "stream",
          "name": "stdout",
          "text": [
            "--\n",
            "Starting tool: tavily_search_results_json with inputs: {'query': 'weather in San Francisco'}\n",
            "Done tool: tavily_search_results_json\n",
            "Tool output was: content='[{\"url\": \"https://www.weatherapi.com/\", \"content\": \"{\\'location\\': {\\'name\\': \\'San Francisco\\', \\'region\\': \\'California\\', \\'country\\': \\'United States of America\\', \\'lat\\': 37.78, \\'lon\\': -122.42, \\'tz_id\\': \\'America/Los_Angeles\\', \\'localtime_epoch\\': 1722928443, \\'localtime\\': \\'2024-08-06 00:14\\'}, \\'current\\': {\\'last_updated_epoch\\': 1722927600, \\'last_updated\\': \\'2024-08-06 00:00\\', \\'temp_c\\': 13.0, \\'temp_f\\': 55.5, \\'is_day\\': 0, \\'condition\\': {\\'text\\': \\'Partly Cloudy\\', \\'icon\\': \\'//cdn.weatherapi.com/weather/64x64/night/116.png\\', \\'code\\': 1003}, \\'wind_mph\\': 6.5, \\'wind_kph\\': 10.4, \\'wind_degree\\': 242, \\'wind_dir\\': \\'WSW\\', \\'pressure_mb\\': 1015.0, \\'pressure_in\\': 29.96, \\'precip_mm\\': 0.0, \\'precip_in\\': 0.0, \\'humidity\\': 91, \\'cloud\\': 41, \\'feelslike_c\\': 12.2, \\'feelslike_f\\': 54.0, \\'windchill_c\\': 12.2, \\'windchill_f\\': 54.0, \\'heatindex_c\\': 13.0, \\'heatindex_f\\': 55.5, \\'dewpoint_c\\': 11.6, \\'dewpoint_f\\': 52.8, \\'vis_km\\': 10.0, \\'vis_miles\\': 6.0, \\'uv\\': 1.0, \\'gust_mph\\': 10.0, \\'gust_kph\\': 16.0}}\"}, {\"url\": \"https://www.weathertab.com/en/c/e/08/united-states/california/san-francisco/\", \"content\": \"Explore comprehensive August 2024 weather forecasts for San Francisco, including daily high and low temperatures, precipitation risks, and monthly temperature trends. Featuring detailed day-by-day forecasts, dynamic graphs of daily rain probabilities, and temperature trends to help you plan ahead. ... 4 64\\\\u00b0F 53\\\\u00b0F 18\\\\u00b0C 12\\\\u00b0C 06% 5 63\\\\u00b0F 53\\\\u00b0F ...\"}]' name='tavily_search_results_json' tool_call_id='call_mqaYLEh2aYcofJhudwwGocwl' artifact={'query': 'weather in San Francisco', 'follow_up_questions': None, 'answer': None, 'images': [], 'results': [{'title': 'Weather in San Francisco', 'url': 'https://www.weatherapi.com/', 'content': \"{'location': {'name': 'San Francisco', 'region': 'California', 'country': 'United States of America', 'lat': 37.78, 'lon': -122.42, 'tz_id': 'America/Los_Angeles', 'localtime_epoch': 1722928443, 'localtime': '2024-08-06 00:14'}, 'current': {'last_updated_epoch': 1722927600, 'last_updated': '2024-08-06 00:00', 'temp_c': 13.0, 'temp_f': 55.5, 'is_day': 0, 'condition': {'text': 'Partly Cloudy', 'icon': '//cdn.weatherapi.com/weather/64x64/night/116.png', 'code': 1003}, 'wind_mph': 6.5, 'wind_kph': 10.4, 'wind_degree': 242, 'wind_dir': 'WSW', 'pressure_mb': 1015.0, 'pressure_in': 29.96, 'precip_mm': 0.0, 'precip_in': 0.0, 'humidity': 91, 'cloud': 41, 'feelslike_c': 12.2, 'feelslike_f': 54.0, 'windchill_c': 12.2, 'windchill_f': 54.0, 'heatindex_c': 13.0, 'heatindex_f': 55.5, 'dewpoint_c': 11.6, 'dewpoint_f': 52.8, 'vis_km': 10.0, 'vis_miles': 6.0, 'uv': 1.0, 'gust_mph': 10.0, 'gust_kph': 16.0}}\", 'score': 0.9992006, 'raw_content': None}, {'title': 'Detailed San Francisco Weather Forecast for August 2024: Daily ...', 'url': 'https://www.weathertab.com/en/c/e/08/united-states/california/san-francisco/', 'content': 'Explore comprehensive August 2024 weather forecasts for San Francisco, including daily high and low temperatures, precipitation risks, and monthly temperature trends. Featuring detailed day-by-day forecasts, dynamic graphs of daily rain probabilities, and temperature trends to help you plan ahead. ... 4 64°F 53°F 18°C 12°C 06% 5 63°F 53°F ...', 'score': 0.9948404, 'raw_content': None}], 'response_time': 2.33}\n",
            "--\n",
            "The| current| weather| in| San| Francisco|,| California| is| partly| cloudy| with| a| temperature| of| |13|.|0|°C| (|55|.|5|°F|).| The| wind| is| coming| from| the| west|-s|outh|west| at| |10|.|4| k|ph| (|6|.|5| mph|).| The| humidity| is| at| |91|%.|"
          ]
        }
      ]
    },
    {
      "cell_type": "markdown",
      "source": [
        "# Adding in memory"
      ],
      "metadata": {
        "id": "lcMpllP5jscR"
      }
    },
    {
      "cell_type": "code",
      "source": [
        "from langgraph.checkpoint.sqlite import SqliteSaver\n",
        "\n",
        "memory = SqliteSaver.from_conn_string(\":memory:\")"
      ],
      "metadata": {
        "id": "webDNcQ0iWKl"
      },
      "execution_count": 18,
      "outputs": []
    },
    {
      "cell_type": "code",
      "source": [
        "agent_executor = create_react_agent(model, tools, checkpointer=memory)\n",
        "\n",
        "config = {\"configurable\": {\"thread_id\": \"abc123\"}}"
      ],
      "metadata": {
        "id": "h7iKCczAj6j4"
      },
      "execution_count": 19,
      "outputs": []
    },
    {
      "cell_type": "code",
      "source": [
        "for chunk in agent_executor.stream(\n",
        "    {\"messages\": [HumanMessage(content=\"hi im bob!\")]}, config\n",
        "):\n",
        "  print(chunk)\n",
        "  print(\"----\")"
      ],
      "metadata": {
        "colab": {
          "base_uri": "https://localhost:8080/"
        },
        "id": "5aaJuZOtkCln",
        "outputId": "aa0d5a4d-dda4-4d0b-8f11-acffe13a3845"
      },
      "execution_count": 20,
      "outputs": [
        {
          "output_type": "stream",
          "name": "stdout",
          "text": [
            "{'agent': {'messages': [AIMessage(content='Hello Bob! How can I assist you today?', response_metadata={'token_usage': {'completion_tokens': 11, 'prompt_tokens': 85, 'total_tokens': 96}, 'model_name': 'gpt-4-0613', 'system_fingerprint': None, 'finish_reason': 'stop', 'logprobs': None}, id='run-89f7c470-17fc-4b6d-b245-ccbd33ddd086-0', usage_metadata={'input_tokens': 85, 'output_tokens': 11, 'total_tokens': 96})]}}\n",
            "----\n"
          ]
        }
      ]
    },
    {
      "cell_type": "code",
      "source": [
        "for chunk in agent_executor.stream(\n",
        "    {\"messages\": [HumanMessage(content=\"whats my name?\")]}, config\n",
        "):\n",
        "  print(chunk)\n",
        "  print(\"----\")"
      ],
      "metadata": {
        "colab": {
          "base_uri": "https://localhost:8080/"
        },
        "id": "T5N34h2UkKNn",
        "outputId": "68e5afec-ba6d-4602-c85f-83ad0c276286"
      },
      "execution_count": 21,
      "outputs": [
        {
          "output_type": "stream",
          "name": "stdout",
          "text": [
            "{'agent': {'messages': [AIMessage(content='Your name is Bob. How can I assist you further?', response_metadata={'token_usage': {'completion_tokens': 13, 'prompt_tokens': 108, 'total_tokens': 121}, 'model_name': 'gpt-4-0613', 'system_fingerprint': None, 'finish_reason': 'stop', 'logprobs': None}, id='run-4ac70a24-d55f-4e0c-a98d-17672e523dce-0', usage_metadata={'input_tokens': 108, 'output_tokens': 13, 'total_tokens': 121})]}}\n",
            "----\n"
          ]
        }
      ]
    },
    {
      "cell_type": "code",
      "source": [
        "config = {\"configurable\": {\"thread_id\": \"xyz123\"}}\n",
        "for chunk in agent_executor.stream(\n",
        "    {\"messages\": [HumanMessage(content=\"whats my name?\")]}, config\n",
        "):\n",
        "  print(chunk)\n",
        "  print(\"----\")"
      ],
      "metadata": {
        "colab": {
          "base_uri": "https://localhost:8080/"
        },
        "id": "nyPsIy1UkVYN",
        "outputId": "3e7b87ea-8a28-4726-b251-e072cc2f1c78"
      },
      "execution_count": 22,
      "outputs": [
        {
          "output_type": "stream",
          "name": "stdout",
          "text": [
            "{'agent': {'messages': [AIMessage(content=\"As an AI, I don't have access to personal data about individuals unless it has been shared with me in the course of our conversation. I am designed to respect user privacy and confidentiality. So, I'm unable to assist with your request.\", response_metadata={'token_usage': {'completion_tokens': 50, 'prompt_tokens': 86, 'total_tokens': 136}, 'model_name': 'gpt-4-0613', 'system_fingerprint': None, 'finish_reason': 'stop', 'logprobs': None}, id='run-ec3bd2ab-dc90-4214-9c8b-b82d6487eeb7-0', usage_metadata={'input_tokens': 86, 'output_tokens': 50, 'total_tokens': 136})]}}\n",
            "----\n"
          ]
        }
      ]
    }
  ]
}